{
 "cells": [
  {
   "cell_type": "markdown",
   "source": [],
   "metadata": {
    "collapsed": false,
    "pycharm": {
     "name": "#%% md\n"
    }
   }
  },
  {
   "cell_type": "code",
   "execution_count": 1,
   "metadata": {
    "pycharm": {
     "name": "#%%\n"
    }
   },
   "outputs": [],
   "source": [
    "from sklearn.datasets import fetch_20newsgroups\n",
    "from sklearn.feature_extraction.text import CountVectorizer\n",
    "from sklearn.feature_extraction.text import TfidfTransformer\n",
    "from sklearn import neighbors\n",
    "from sklearn import metrics\n",
    "from matplotlib import pyplot as plt"
   ]
  },
  {
   "cell_type": "code",
   "execution_count": 2,
   "outputs": [
    {
     "name": "stdout",
     "output_type": "stream",
     "text": [
      "Using dataset: ['comp.graphics', 'sci.med']\n"
     ]
    }
   ],
   "source": [
    "categories = ['comp.graphics', 'sci.med']\n",
    "train = fetch_20newsgroups(subset='train',\n",
    "                           categories=categories,\n",
    "                           shuffle=True,\n",
    "                           random_state=42,\n",
    "                           )\n",
    "target_name = train.target_names\n",
    "print('Using dataset:', target_name)"
   ],
   "metadata": {
    "collapsed": false,
    "pycharm": {
     "name": "#%%\n"
    }
   }
  },
  {
   "cell_type": "code",
   "execution_count": 3,
   "outputs": [
    {
     "name": "stdout",
     "output_type": "stream",
     "text": [
      "(1178, 24614)\n",
      "[[0 0 0 ... 0 0 0]\n",
      " [0 0 0 ... 0 0 0]\n",
      " [0 0 0 ... 0 0 0]\n",
      " ...\n",
      " [0 0 0 ... 0 0 0]\n",
      " [0 0 0 ... 0 0 0]\n",
      " [0 0 0 ... 0 0 0]]\n"
     ]
    }
   ],
   "source": [
    "# 初始化词频向量化器\n",
    "count_vectorizer = CountVectorizer()\n",
    "X_train_counts = count_vectorizer.fit_transform(train.data)\n",
    "# 这是一个稀疏矩阵\n",
    "print(X_train_counts.shape)\n",
    "print(X_train_counts.toarray())"
   ],
   "metadata": {
    "collapsed": false,
    "pycharm": {
     "name": "#%%\n"
    }
   }
  },
  {
   "cell_type": "code",
   "execution_count": 4,
   "outputs": [
    {
     "name": "stdout",
     "output_type": "stream",
     "text": [
      "(1178, 24614)\n"
     ]
    }
   ],
   "source": [
    "# 初始化tf-idf向量化器\n",
    "tf_transformer = TfidfTransformer()\n",
    "X_train_tf = tf_transformer.fit_transform(X_train_counts)\n",
    "print(X_train_tf.shape)"
   ],
   "metadata": {
    "collapsed": false,
    "pycharm": {
     "name": "#%%\n"
    }
   }
  },
  {
   "cell_type": "code",
   "execution_count": 5,
   "outputs": [],
   "source": [
    "# 初始化测试数据集向量\n",
    "test = fetch_20newsgroups(subset='test',\n",
    "                          categories=categories,\n",
    "                          shuffle=True,\n",
    "                          random_state=42,\n",
    "                          )\n",
    "X_test_count = count_vectorizer.transform(test.data)\n",
    "X_test_tf = tf_transformer.transform(X_test_count)"
   ],
   "metadata": {
    "collapsed": false,
    "pycharm": {
     "name": "#%%\n"
    }
   }
  },
  {
   "cell_type": "code",
   "execution_count": 6,
   "outputs": [
    {
     "data": {
      "text/plain": "<Figure size 432x288 with 1 Axes>",
      "image/png": "[encoded data removed]"
     },
     "metadata": {
      "needs_background": "light"
     },
     "output_type": "display_data"
    },
    {
     "name": "stdout",
     "output_type": "stream",
     "text": [
      "best k-value is: 6\n"
     ]
    }
   ],
   "source": [
    "# 找出表现最好的k值\n",
    "all_results = []\n",
    "for k in range(1,50):\n",
    "    knn = neighbors.KNeighborsClassifier(n_neighbors=k,p=2)\n",
    "    knn = knn.fit(X_train_tf,train.target)\n",
    "    acc = knn.score(X_test_tf, test.target)\n",
    "    all_results.append(acc)\n",
    "plt.plot(all_results)\n",
    "plt.xlabel('k-value')\n",
    "plt.ylabel('accuracy')\n",
    "plt.show()\n",
    "best_k = all_results.index(max(all_results))+1\n",
    "print('best k-value is:',best_k)"
   ],
   "metadata": {
    "collapsed": false,
    "pycharm": {
     "name": "#%%\n"
    }
   }
  },
  {
   "cell_type": "code",
   "execution_count": 7,
   "outputs": [],
   "source": [
    "# 训练knn模型，使用欧几里得距离\n",
    "knn = neighbors.KNeighborsClassifier(n_neighbors=best_k,p=2)\n",
    "clf = knn.fit(X_train_tf, train.target)"
   ],
   "metadata": {
    "collapsed": false,
    "pycharm": {
     "name": "#%%\n"
    }
   }
  },
  {
   "cell_type": "code",
   "execution_count": 8,
   "outputs": [],
   "source": [
    "# 先对简单的几段文字进行测试，检测其分类效果\n",
    "docs_new = ['science is good',\n",
    "            'I need a new CPU and CPU',\n",
    "            'this is a third sentence']\n",
    "X_new_counts = count_vectorizer.transform(docs_new)\n",
    "X_new_tf = tf_transformer.transform(X_new_counts)"
   ],
   "metadata": {
    "collapsed": false,
    "pycharm": {
     "name": "#%%\n"
    }
   }
  },
  {
   "cell_type": "code",
   "execution_count": 9,
   "outputs": [
    {
     "name": "stdout",
     "output_type": "stream",
     "text": [
      "sci.med\n",
      "comp.graphics\n",
      "comp.graphics\n"
     ]
    }
   ],
   "source": [
    "# 分类器对于小测试用例的来源预测如下：\n",
    "predicted = clf.predict(X_new_tf)\n",
    "for x in predicted:\n",
    "    print(categories[x])"
   ],
   "metadata": {
    "collapsed": false,
    "pycharm": {
     "name": "#%%\n"
    }
   }
  },
  {
   "cell_type": "code",
   "execution_count": 10,
   "outputs": [
    {
     "name": "stdout",
     "output_type": "stream",
     "text": [
      "Acc: 0.910828025477707\n",
      "               precision    recall  f1-score   support\n",
      "\n",
      "comp.graphics       0.91      0.91      0.91       389\n",
      "      sci.med       0.91      0.91      0.91       396\n",
      "\n",
      "     accuracy                           0.91       785\n",
      "    macro avg       0.91      0.91      0.91       785\n",
      " weighted avg       0.91      0.91      0.91       785\n",
      "\n",
      "Confusion matrix:\n"
     ]
    },
    {
     "data": {
      "text/plain": "array([[354,  35],\n       [ 35, 361]], dtype=int64)"
     },
     "execution_count": 10,
     "metadata": {},
     "output_type": "execute_result"
    }
   ],
   "source": [
    "predicted = clf.predict(X_test_tf)\n",
    "\n",
    "# 测试准确度\n",
    "print(\"Acc:\", metrics.accuracy_score(test.target, predicted))\n",
    "print(metrics.classification_report(test.target, predicted, target_names=test.target_names))\n",
    "print(\"Confusion matrix:\")\n",
    "metrics.confusion_matrix(test.target, predicted)"
   ],
   "metadata": {
    "collapsed": false,
    "pycharm": {
     "name": "#%%\n"
    }
   }
  }
 ],
 "metadata": {
  "kernelspec": {
   "display_name": "Python 3 (ipykernel)",
   "language": "python",
   "name": "python3"
  },
  "language_info": {
   "codemirror_mode": {
    "name": "ipython",
    "version": 3
   },
   "file_extension": ".py",
   "mimetype": "text/x-python",
   "name": "python",
   "nbconvert_exporter": "python",
   "pygments_lexer": "ipython3",
   "version": "3.9.1"
  }
 },
 "nbformat": 4,
 "nbformat_minor": 1
}