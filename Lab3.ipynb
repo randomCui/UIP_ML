{
 "cells": [
  {
   "cell_type": "markdown",
   "source": [],
   "metadata": {
    "collapsed": false,
    "pycharm": {
     "name": "#%% md\n"
    }
   }
  },
  {
   "cell_type": "code",
   "execution_count": 101,
   "metadata": {
    "pycharm": {
     "name": "#%%\n"
    }
   },
   "outputs": [],
   "source": [
    "from sklearn.datasets import fetch_20newsgroups\n",
    "from sklearn.feature_extraction.text import CountVectorizer\n",
    "from sklearn.feature_extraction.text import TfidfTransformer\n",
    "from sklearn import neighbors\n",
    "from sklearn import metrics"
   ]
  },
  {
   "cell_type": "code",
   "execution_count": 102,
   "outputs": [
    {
     "name": "stdout",
     "output_type": "stream",
     "text": [
      "['comp.graphics', 'sci.med']\n"
     ]
    }
   ],
   "source": [
    "index = ['comp.graphics','sci.med']\n",
    "train = fetch_20newsgroups(subset='train',\n",
    "                           categories=index,\n",
    "                           shuffle=True,\n",
    "                           random_state=42,\n",
    "\n",
    "                           )\n",
    "target_name = train.target_names\n",
    "print(target_name)"
   ],
   "metadata": {
    "collapsed": false,
    "pycharm": {
     "name": "#%%\n"
    }
   }
  },
  {
   "cell_type": "code",
   "execution_count": 103,
   "outputs": [
    {
     "name": "stdout",
     "output_type": "stream",
     "text": [
      "[[0 0 0 ... 0 0 0]\n",
      " [0 0 0 ... 0 0 0]\n",
      " [0 0 0 ... 0 0 0]\n",
      " ...\n",
      " [0 0 0 ... 0 0 0]\n",
      " [0 0 0 ... 0 0 0]\n",
      " [0 0 0 ... 0 0 0]]\n"
     ]
    }
   ],
   "source": [
    "count_vectorizer = CountVectorizer()\n",
    "X_train_counts = count_vectorizer.fit_transform(train.data)\n",
    "#X_train_counts.shape\n",
    "print(X_train_counts.toarray())"
   ],
   "metadata": {
    "collapsed": false,
    "pycharm": {
     "name": "#%%\n"
    }
   }
  },
  {
   "cell_type": "code",
   "execution_count": 104,
   "outputs": [],
   "source": [
    "#docs_new = ['science is good', 'OpenGL o the GPU is']\n",
    "#X_new_counts = count_vectorizer.transform(docs_new)"
   ],
   "metadata": {
    "collapsed": false,
    "pycharm": {
     "name": "#%%\n"
    }
   }
  },
  {
   "cell_type": "code",
   "execution_count": 105,
   "outputs": [
    {
     "name": "stdout",
     "output_type": "stream",
     "text": [
      "(1178, 24614)\n"
     ]
    }
   ],
   "source": [
    "tf_transformer = TfidfTransformer(use_idf=False).fit(X_train_counts)\n",
    "X_train_tf = tf_transformer.transform(X_train_counts)\n",
    "print(X_train_tf.shape)"
   ],
   "metadata": {
    "collapsed": false,
    "pycharm": {
     "name": "#%%\n"
    }
   }
  },
  {
   "cell_type": "code",
   "execution_count": 106,
   "outputs": [],
   "source": [
    "docs_new = ['science is good', 'I need a new CPU and CPU', 'this is a third sentence']\n",
    "X_new_counts = count_vectorizer.transform(docs_new)\n",
    "X_new_tf = tf_transformer.transform(X_new_counts)"
   ],
   "metadata": {
    "collapsed": false,
    "pycharm": {
     "name": "#%%\n"
    }
   }
  },
  {
   "cell_type": "code",
   "execution_count": 107,
   "outputs": [],
   "source": [
    "knn = neighbors.KNeighborsClassifier(n_neighbors=2,metric='minkowski',p=2)\n",
    "knn = knn.fit(X_train_tf,train.target)"
   ],
   "metadata": {
    "collapsed": false,
    "pycharm": {
     "name": "#%%\n"
    }
   }
  },
  {
   "cell_type": "code",
   "execution_count": 108,
   "outputs": [
    {
     "name": "stdout",
     "output_type": "stream",
     "text": [
      "comp.graphics\n",
      "comp.graphics\n",
      "comp.graphics\n"
     ]
    }
   ],
   "source": [
    "predicted = knn.predict(X_new_tf)\n",
    "for x in predicted:\n",
    "    print(index[x])"
   ],
   "metadata": {
    "collapsed": false,
    "pycharm": {
     "name": "#%%\n"
    }
   }
  },
  {
   "cell_type": "code",
   "execution_count": 109,
   "outputs": [
    {
     "name": "stdout",
     "output_type": "stream",
     "text": [
      "Acc: 0.8012738853503185\n",
      "               precision    recall  f1-score   support\n",
      "\n",
      "comp.graphics       0.80      0.80      0.80       389\n",
      "      sci.med       0.81      0.80      0.80       396\n",
      "\n",
      "     accuracy                           0.80       785\n",
      "    macro avg       0.80      0.80      0.80       785\n",
      " weighted avg       0.80      0.80      0.80       785\n",
      "\n"
     ]
    },
    {
     "data": {
      "text/plain": "array([[313,  76],\n       [ 80, 316]], dtype=int64)"
     },
     "execution_count": 109,
     "metadata": {},
     "output_type": "execute_result"
    }
   ],
   "source": [
    "test = fetch_20newsgroups(subset='test',\n",
    "                           categories=index,\n",
    "                           shuffle=True,\n",
    "                           random_state=42,\n",
    "                           )\n",
    "x_test_count = count_vectorizer.transform(test.data)\n",
    "x_test_tf = tf_transformer.transform(x_test_count)\n",
    "predicted = knn.predict(x_test_tf)\n",
    "\n",
    "print(\"Acc:\", metrics.accuracy_score(test.target,predicted))\n",
    "print(metrics.classification_report(test.target,predicted,target_names=test.target_names)),\n",
    "metrics.confusion_matrix(test.target,predicted)"
   ],
   "metadata": {
    "collapsed": false,
    "pycharm": {
     "name": "#%%\n"
    }
   }
  },
  {
   "cell_type": "code",
   "execution_count": 109,
   "outputs": [],
   "source": [],
   "metadata": {
    "collapsed": false,
    "pycharm": {
     "name": "#%%\n"
    }
   }
  }
 ],
 "metadata": {
  "kernelspec": {
   "display_name": "Python 3 (ipykernel)",
   "language": "python",
   "name": "python3"
  },
  "language_info": {
   "codemirror_mode": {
    "name": "ipython",
    "version": 3
   },
   "file_extension": ".py",
   "mimetype": "text/x-python",
   "name": "python",
   "nbconvert_exporter": "python",
   "pygments_lexer": "ipython3",
   "version": "3.9.1"
  }
 },
 "nbformat": 4,
 "nbformat_minor": 1
}