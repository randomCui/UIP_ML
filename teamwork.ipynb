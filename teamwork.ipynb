{
 "cells": [
  {
   "cell_type": "markdown",
   "source": [
    "## Teamwork\n",
    "### Time:2022/07/01"
   ],
   "metadata": {
    "collapsed": false,
    "pycharm": {
     "name": "#%% md\n"
    }
   }
  },
  {
   "cell_type": "markdown",
   "source": [
    "## 数据预处理\n",
    "实验提供了三类六个数据文件，\n",
    "\n",
    "## 数据\n",
    "训练数据中，输入数据以train_data[_suffix]方式表示，训练目标以train_target[_suffix]表示\n",
    "测试数据以test_data[_suffix]方式表示，测试目标以test_target[_suffix]表示\n",
    "本次实验中提供了6组\n",
    "\n",
    "## 验证方式\n",
    "实验中所使用的方法是k折交叉验证"
   ],
   "metadata": {
    "collapsed": false,
    "pycharm": {
     "name": "#%% md\n"
    }
   }
  },
  {
   "cell_type": "code",
   "execution_count": null,
   "outputs": [],
   "source": [
    "from sklearn import neighbors\n",
    "from sklearn import metrics\n",
    "from matplotlib import pyplot as plt"
   ],
   "metadata": {
    "collapsed": false,
    "pycharm": {
     "name": "#%%\n"
    }
   }
  },
  {
   "cell_type": "code",
   "execution_count": null,
   "outputs": [],
   "source": [
    "allResults = []\n",
    "for kValue in range(1, 100):\n",
    "\n",
    "    knn = neighbors.KNeighborsClassifier(n_neighbors=kValue, metric=\"minkowski\", p=1)\n",
    "    knn = knn.fit(train_features, train_labels)\n",
    "    accuracy = knn.score(test_features, test_labels)\n",
    "    allResults.append(accuracy)\n",
    "plt.plot(allResults)\n",
    "plt.show()"
   ],
   "metadata": {
    "collapsed": false,
    "pycharm": {
     "name": "#%%\n"
    }
   }
  }
 ],
 "metadata": {
  "kernelspec": {
   "display_name": "Python 3",
   "language": "python",
   "name": "python3"
  },
  "language_info": {
   "codemirror_mode": {
    "name": "ipython",
    "version": 2
   },
   "file_extension": ".py",
   "mimetype": "text/x-python",
   "name": "python",
   "nbconvert_exporter": "python",
   "pygments_lexer": "ipython2",
   "version": "2.7.6"
  }
 },
 "nbformat": 4,
 "nbformat_minor": 0
}